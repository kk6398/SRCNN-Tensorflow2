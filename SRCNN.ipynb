{
 "cells": [
  {
   "cell_type": "code",
   "execution_count": 1,
   "metadata": {},
   "outputs": [
    {
     "name": "stdout",
     "output_type": "stream",
     "text": [
      "2.0.0\n"
     ]
    }
   ],
   "source": [
    "import tensorflow as tf\n",
    "\n",
    "print(tf.__version__)"
   ]
  },
  {
   "cell_type": "code",
   "execution_count": 2,
   "metadata": {},
   "outputs": [],
   "source": [
    "from tensorflow import keras\n",
    "from tensorflow.keras import layers"
   ]
  },
  {
   "cell_type": "code",
   "execution_count": 3,
   "metadata": {},
   "outputs": [
    {
     "name": "stdout",
     "output_type": "stream",
     "text": [
      "Model: \"SRCNN_model\"\n",
      "_________________________________________________________________\n",
      "Layer (type)                 Output Shape              Param #   \n",
      "=================================================================\n",
      "img (InputLayer)             [(None, 128, 128, 3)]     0         \n",
      "_________________________________________________________________\n",
      "conv2d (Conv2D)              (None, 128, 128, 64)      15616     \n",
      "_________________________________________________________________\n",
      "conv2d_1 (Conv2D)            (None, 128, 128, 32)      2080      \n",
      "_________________________________________________________________\n",
      "conv2d_2 (Conv2D)            (None, 128, 128, 3)       2403      \n",
      "=================================================================\n",
      "Total params: 20,099\n",
      "Trainable params: 20,099\n",
      "Non-trainable params: 0\n",
      "_________________________________________________________________\n"
     ]
    }
   ],
   "source": [
    "inputs = keras.Input(shape=(128, 128, 3), name='img')\n",
    "\n",
    "x = layers.Conv2D(\n",
    "    filters=64,             # 卷积层神经元（卷积核）数目\n",
    "    kernel_size=9,          # 感受野大小\n",
    "    padding='same',         # padding策略（vaild 或 same）\n",
    "    activation=tf.nn.relu   # 激活函数\n",
    ")(inputs)\n",
    "\n",
    "x = layers.Conv2D(\n",
    "    filters=32,      \n",
    "    kernel_size=1,\n",
    "    padding='same',  \n",
    "    activation=tf.nn.relu\n",
    ")(x)\n",
    "\n",
    "outputs = layers.Conv2D(\n",
    "    filters=1,\n",
    "    kernel_size=5,          \n",
    "    padding='same'          # 不设置激活函数\n",
    ")(x)\n",
    "\n",
    "model = keras.Model(inputs=inputs, outputs=outputs, name='SRCNN_model')# 通过在图层图中指定其输入和输出来创建一个model\n",
    "  \n",
    "model.summary() # 查看模型摘要，需要模型built（实例化）后调用"
   ]
  },
  {
   "cell_type": "code",
   "execution_count": 7,
   "metadata": {},
   "outputs": [],
   "source": [
    "import cv2 as cv\n",
    "import numpy as np\n",
    "\n",
    "ishape = 128\n",
    "\n",
    "# load data\n",
    "(train_images, train_labels), (test_images, test_labels) = tf.keras.datasets.cifar10.load_data()\n",
    "\n",
    "train_images = train_images / 255.                               #(50000, 32, 32, 3)\n",
    "test_images  = test_images  / 255.                               #(10000, 32, 32, 3)\n",
    "\n",
    "'''\n",
    "CIFAR10 had't 128*128*3 images use bicubic alternatived,and bicubic use nearest alternatived.\n",
    "X_: image applied bicubic interpolation (low-resolution),(50000, 128, 128, 3)\n",
    "y_: image with original resolution (high-resolution),(10000, 128, 128, 3)\n",
    "'''\n",
    "X_train = np.array([cv.resize(i,(ishape,ishape), interpolation=cv.INTER_NEAREST) for i in train_images])\n",
    "X_test  = np.array([cv.resize(i,(ishape,ishape), interpolation=cv.INTER_NEAREST) for i in test_images])\n",
    "y_train = np.array([cv.resize(i,(ishape,ishape), interpolation=cv.INTER_CUBIC) for i in train_images])\n",
    "y_test  = np.array([cv.resize(i,(ishape,ishape), interpolation=cv.INTER_CUBIC) for i in test_images]) "
   ]
  },
  {
   "cell_type": "code",
   "execution_count": 9,
   "metadata": {
    "scrolled": true
   },
   "outputs": [
    {
     "name": "stdout",
     "output_type": "stream",
     "text": [
      "Train on 40000 samples, validate on 10000 samples\n",
      "40000/40000 [==============================] - 2381s 60ms/sample - loss: 18675.0999 - mae: 31.9809 - val_loss: 433.9429 - val_mae: 14.1890\n"
     ]
    }
   ],
   "source": [
    "model.compile(optimizer=tf.keras.optimizers.Adam(0.01),\n",
    "              loss='mse',       \n",
    "              metrics=['mae'])    # 编译\n",
    "\n",
    "history = model.fit(X_train, y_train,\n",
    "                    batch_size=64,\n",
    "                    epochs=3,\n",
    "                    validation_split=0.2)# 训练\n",
    "\n",
    "test_scores = model.evaluate(X_test, y_test, verbose=2) # 评估\n",
    "\n",
    "print('Test loss:', test_scores[0])\n",
    "print('Test mae:', test_scores[1])\n",
    "\n",
    "# Save entire model to a HDF5 file\n",
    "model.save('SRCNN.h5')"
   ]
  },
  {
   "cell_type": "code",
   "execution_count": 33,
   "metadata": {},
   "outputs": [
    {
     "data": {
      "image/png": "[encoded data removed]",
      "text/plain": [
       "<Figure size 432x288 with 1 Axes>"
      ]
     },
     "metadata": {},
     "output_type": "display_data"
    }
   ],
   "source": [
    "import cv2 as cv\n",
    "from matplotlib import pyplot as plt\n",
    "\n",
    "ishape = 128\n",
    "\n",
    "img = cv.imread('automobile.png')\n",
    "\n",
    "img = cv.cvtColor(img, cv.COLOR_BGR2RGB)\n",
    "\n",
    "img = cv.resize(img,(ishape,ishape), interpolation=cv.INTER_NEAREST)# BICUBIC,(36,36,3)->(128,128,3)\n",
    "\n",
    "plt.imshow(img)\n",
    "\n",
    "plt.xticks([]), plt.yticks([])\n",
    "\n",
    "plt.show()"
   ]
  },
  {
   "cell_type": "code",
   "execution_count": 34,
   "metadata": {
    "scrolled": false
   },
   "outputs": [
    {
     "data": {
      "image/png": "[encoded data removed]",
      "text/plain": [
       "<Figure size 432x288 with 1 Axes>"
      ]
     },
     "metadata": {},
     "output_type": "display_data"
    }
   ],
   "source": [
    "import numpy as np\n",
    "\n",
    "# Recreate the exact same model, including weights and optimizer.\n",
    "model = tf.keras.models.load_model('SRCNN.h5')\n",
    "\n",
    "img = np.reshape(img,(1,ishape,ishape,3)) / 255.\n",
    "\n",
    "img_SR = model.predict(img)\n",
    "\n",
    "plt.imshow(img_SR[0])\n",
    "\n",
    "plt.xticks([]), plt.yticks([])\n",
    "\n",
    "plt.show()"
   ]
  },
  {
   "cell_type": "code",
   "execution_count": null,
   "metadata": {},
   "outputs": [],
   "source": []
  }
 ],
 "metadata": {
  "kernelspec": {
   "display_name": "tensorflow2",
   "language": "python",
   "name": "tensorflow2"
  },
  "language_info": {
   "codemirror_mode": {
    "name": "ipython",
    "version": 3
   },
   "file_extension": ".py",
   "mimetype": "text/x-python",
   "name": "python",
   "nbconvert_exporter": "python",
   "pygments_lexer": "ipython3",
   "version": "3.7.5"
  }
 },
 "nbformat": 4,
 "nbformat_minor": 2
}
